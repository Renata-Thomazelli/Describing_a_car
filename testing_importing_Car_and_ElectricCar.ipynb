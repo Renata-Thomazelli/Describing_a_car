{
 "cells": [
  {
   "cell_type": "code",
   "execution_count": 5,
   "metadata": {},
   "outputs": [
    {
     "name": "stdout",
     "output_type": "stream",
     "text": [
      "2019 Audi A4\n",
      "This car has 23 miles on it.\n"
     ]
    }
   ],
   "source": [
    "from car import Car\n",
    "\n",
    "my_new_car = Car('audi','a4',2019)\n",
    "print (my_new_car.get_descriptive_name())\n",
    "\n",
    "my_new_car.odometer_reading =  23\n",
    "my_new_car.read_odometer()"
   ]
  },
  {
   "cell_type": "code",
   "execution_count": 9,
   "metadata": {},
   "outputs": [
    {
     "name": "stdout",
     "output_type": "stream",
     "text": [
      "2019 Tesla Model'S\n",
      "This car has a 75-kWh battery.\n",
      "This car can go about 260 mile on a full charge.\n"
     ]
    }
   ],
   "source": [
    "from car import ElectricCar\n",
    "\n",
    "my_tesla = ElectricCar('tesla',\"model's\",2019)\n",
    "print(my_tesla.get_descriptive_name())\n",
    "my_tesla.battery.describe_battery()\n",
    "my_tesla.battery.get_range()"
   ]
  },
  {
   "cell_type": "markdown",
   "metadata": {},
   "source": [
    "#### Importing Multiple Classes from a Module"
   ]
  },
  {
   "cell_type": "code",
   "execution_count": 12,
   "metadata": {},
   "outputs": [
    {
     "name": "stdout",
     "output_type": "stream",
     "text": [
      "2019 Volkswagem Beetle\n",
      "2019 Tesla Roadster\n"
     ]
    }
   ],
   "source": [
    "from car import Car, ElectricCar\n",
    "\n",
    "my_beetle = Car ('volkswagem','beetle',2019)\n",
    "print(my_beetle.get_descriptive_name())\n",
    "\n",
    "my_tesla = ElectricCar('tesla','roadster',2019)\n",
    "print(my_tesla.get_descriptive_name())"
   ]
  },
  {
   "cell_type": "code",
   "execution_count": 1,
   "metadata": {},
   "outputs": [
    {
     "name": "stdout",
     "output_type": "stream",
     "text": [
      "2019 Volkswagen Beetle\n",
      "2019 Tesla Roadster\n"
     ]
    }
   ],
   "source": [
    "import car\n",
    "\n",
    "my_beetle = car.Car('volkswagen','beetle',2019)\n",
    "print(my_beetle.get_descriptive_name())\n",
    "\n",
    "my_tesla = car.ElectricCar('tesla','roadster',2019)\n",
    "print(my_tesla.get_descriptive_name())\n"
   ]
  },
  {
   "cell_type": "code",
   "execution_count": 3,
   "metadata": {},
   "outputs": [
    {
     "name": "stdout",
     "output_type": "stream",
     "text": [
      "2019 Volkswagem Beetle\n",
      "2019 Tesla Roadster\n"
     ]
    }
   ],
   "source": [
    "from car import Car\n",
    "from electric_car import ElectricCar\n",
    "\n",
    "my_beetle = Car('volkswagem','beetle',2019)\n",
    "print(my_beetle.get_descriptive_name())\n",
    "\n",
    "my_tesla = ElectricCar('tesla','roadster',2019)\n",
    "print(my_tesla.get_descriptive_name())"
   ]
  },
  {
   "cell_type": "code",
   "execution_count": 4,
   "metadata": {},
   "outputs": [],
   "source": [
    "from electric_car import ElectricCar as EC\n",
    "\n"
   ]
  },
  {
   "cell_type": "code",
   "execution_count": 5,
   "metadata": {},
   "outputs": [],
   "source": [
    "my_tesla = EC('tesla','roadster',2019)"
   ]
  },
  {
   "cell_type": "code",
   "execution_count": 1,
   "metadata": {},
   "outputs": [],
   "source": [
    "from restaurant import Restaurant\n"
   ]
  },
  {
   "cell_type": "code",
   "execution_count": 2,
   "metadata": {},
   "outputs": [
    {
     "name": "stdout",
     "output_type": "stream",
     "text": [
      "\n",
      "The restaurant name is Fogão Mineiro.\n",
      "The restaurant type of cuisine is Mineira.\n"
     ]
    }
   ],
   "source": [
    "new_prefer_restaurant = Restaurant('Fogão Mineiro',\"mineira\")\n",
    "new_prefer_restaurant.describe_restaurant()"
   ]
  },
  {
   "cell_type": "code",
   "execution_count": 1,
   "metadata": {},
   "outputs": [],
   "source": [
    "from privilegies_and_admin import Admin\n",
    "\n"
   ]
  },
  {
   "cell_type": "code",
   "execution_count": 2,
   "metadata": {},
   "outputs": [
    {
     "name": "stdout",
     "output_type": "stream",
     "text": [
      "\n",
      "The new user name is Hélio Nélio his age is 39 and he'll work in the TAX department.\n",
      " -can add post\n",
      " -can delete post\n",
      " -can ban user\n"
     ]
    }
   ],
   "source": [
    "new_user11 = Admin('Hélio','Nélio',39,'tax')\n",
    "new_user11.describe_user()\n",
    "new_user11.privilegies.show_privilegies()"
   ]
  },
  {
   "cell_type": "code",
   "execution_count": null,
   "metadata": {},
   "outputs": [],
   "source": []
  },
  {
   "cell_type": "code",
   "execution_count": null,
   "metadata": {},
   "outputs": [],
   "source": []
  }
 ],
 "metadata": {
  "kernelspec": {
   "display_name": "Python 3",
   "language": "python",
   "name": "python3"
  },
  "language_info": {
   "codemirror_mode": {
    "name": "ipython",
    "version": 3
   },
   "file_extension": ".py",
   "mimetype": "text/x-python",
   "name": "python",
   "nbconvert_exporter": "python",
   "pygments_lexer": "ipython3",
   "version": "3.7.6"
  }
 },
 "nbformat": 4,
 "nbformat_minor": 4
}
